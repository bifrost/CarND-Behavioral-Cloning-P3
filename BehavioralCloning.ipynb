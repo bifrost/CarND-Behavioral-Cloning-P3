{
 "cells": [
  {
   "cell_type": "code",
   "execution_count": 11,
   "metadata": {},
   "outputs": [
    {
     "data": {
      "text/html": [
       "<div>\n",
       "<style scoped>\n",
       "    .dataframe tbody tr th:only-of-type {\n",
       "        vertical-align: middle;\n",
       "    }\n",
       "\n",
       "    .dataframe tbody tr th {\n",
       "        vertical-align: top;\n",
       "    }\n",
       "\n",
       "    .dataframe thead th {\n",
       "        text-align: right;\n",
       "    }\n",
       "</style>\n",
       "<table border=\"1\" class=\"dataframe\">\n",
       "  <thead>\n",
       "    <tr style=\"text-align: right;\">\n",
       "      <th></th>\n",
       "      <th>/Users/dan/Desktop/car-sim1/IMG/center_2018_08_29_21_47_54_476.jpg</th>\n",
       "      <th>/Users/dan/Desktop/car-sim1/IMG/left_2018_08_29_21_47_54_476.jpg</th>\n",
       "      <th>/Users/dan/Desktop/car-sim1/IMG/right_2018_08_29_21_47_54_476.jpg</th>\n",
       "      <th>0</th>\n",
       "      <th>0.1</th>\n",
       "      <th>0.2</th>\n",
       "      <th>6.222208E-06</th>\n",
       "    </tr>\n",
       "  </thead>\n",
       "  <tbody>\n",
       "    <tr>\n",
       "      <th>0</th>\n",
       "      <td>/Users/dan/Desktop/car-sim1/IMG/center_2018_08...</td>\n",
       "      <td>/Users/dan/Desktop/car-sim1/IMG/left_2018_08_2...</td>\n",
       "      <td>/Users/dan/Desktop/car-sim1/IMG/right_2018_08_...</td>\n",
       "      <td>0.0</td>\n",
       "      <td>0.000000</td>\n",
       "      <td>0</td>\n",
       "      <td>0.000012</td>\n",
       "    </tr>\n",
       "    <tr>\n",
       "      <th>1</th>\n",
       "      <td>/Users/dan/Desktop/car-sim1/IMG/center_2018_08...</td>\n",
       "      <td>/Users/dan/Desktop/car-sim1/IMG/left_2018_08_2...</td>\n",
       "      <td>/Users/dan/Desktop/car-sim1/IMG/right_2018_08_...</td>\n",
       "      <td>0.0</td>\n",
       "      <td>0.000000</td>\n",
       "      <td>0</td>\n",
       "      <td>0.000006</td>\n",
       "    </tr>\n",
       "    <tr>\n",
       "      <th>2</th>\n",
       "      <td>/Users/dan/Desktop/car-sim1/IMG/center_2018_08...</td>\n",
       "      <td>/Users/dan/Desktop/car-sim1/IMG/left_2018_08_2...</td>\n",
       "      <td>/Users/dan/Desktop/car-sim1/IMG/right_2018_08_...</td>\n",
       "      <td>0.0</td>\n",
       "      <td>0.000000</td>\n",
       "      <td>0</td>\n",
       "      <td>0.000004</td>\n",
       "    </tr>\n",
       "    <tr>\n",
       "      <th>3</th>\n",
       "      <td>/Users/dan/Desktop/car-sim1/IMG/center_2018_08...</td>\n",
       "      <td>/Users/dan/Desktop/car-sim1/IMG/left_2018_08_2...</td>\n",
       "      <td>/Users/dan/Desktop/car-sim1/IMG/right_2018_08_...</td>\n",
       "      <td>0.0</td>\n",
       "      <td>0.000000</td>\n",
       "      <td>0</td>\n",
       "      <td>0.000010</td>\n",
       "    </tr>\n",
       "    <tr>\n",
       "      <th>4</th>\n",
       "      <td>/Users/dan/Desktop/car-sim1/IMG/center_2018_08...</td>\n",
       "      <td>/Users/dan/Desktop/car-sim1/IMG/left_2018_08_2...</td>\n",
       "      <td>/Users/dan/Desktop/car-sim1/IMG/right_2018_08_...</td>\n",
       "      <td>0.0</td>\n",
       "      <td>0.099603</td>\n",
       "      <td>0</td>\n",
       "      <td>0.068894</td>\n",
       "    </tr>\n",
       "  </tbody>\n",
       "</table>\n",
       "</div>"
      ],
      "text/plain": [
       "  /Users/dan/Desktop/car-sim1/IMG/center_2018_08_29_21_47_54_476.jpg  \\\n",
       "0  /Users/dan/Desktop/car-sim1/IMG/center_2018_08...                   \n",
       "1  /Users/dan/Desktop/car-sim1/IMG/center_2018_08...                   \n",
       "2  /Users/dan/Desktop/car-sim1/IMG/center_2018_08...                   \n",
       "3  /Users/dan/Desktop/car-sim1/IMG/center_2018_08...                   \n",
       "4  /Users/dan/Desktop/car-sim1/IMG/center_2018_08...                   \n",
       "\n",
       "  /Users/dan/Desktop/car-sim1/IMG/left_2018_08_29_21_47_54_476.jpg  \\\n",
       "0  /Users/dan/Desktop/car-sim1/IMG/left_2018_08_2...                 \n",
       "1  /Users/dan/Desktop/car-sim1/IMG/left_2018_08_2...                 \n",
       "2  /Users/dan/Desktop/car-sim1/IMG/left_2018_08_2...                 \n",
       "3  /Users/dan/Desktop/car-sim1/IMG/left_2018_08_2...                 \n",
       "4  /Users/dan/Desktop/car-sim1/IMG/left_2018_08_2...                 \n",
       "\n",
       "  /Users/dan/Desktop/car-sim1/IMG/right_2018_08_29_21_47_54_476.jpg    0  \\\n",
       "0  /Users/dan/Desktop/car-sim1/IMG/right_2018_08_...                 0.0   \n",
       "1  /Users/dan/Desktop/car-sim1/IMG/right_2018_08_...                 0.0   \n",
       "2  /Users/dan/Desktop/car-sim1/IMG/right_2018_08_...                 0.0   \n",
       "3  /Users/dan/Desktop/car-sim1/IMG/right_2018_08_...                 0.0   \n",
       "4  /Users/dan/Desktop/car-sim1/IMG/right_2018_08_...                 0.0   \n",
       "\n",
       "        0.1  0.2  6.222208E-06  \n",
       "0  0.000000    0      0.000012  \n",
       "1  0.000000    0      0.000006  \n",
       "2  0.000000    0      0.000004  \n",
       "3  0.000000    0      0.000010  \n",
       "4  0.099603    0      0.068894  "
      ]
     },
     "execution_count": 11,
     "metadata": {},
     "output_type": "execute_result"
    }
   ],
   "source": [
    "import pandas as pd\n",
    "\n",
    "df = pd.read_csv('./data/car-sim1/driving_log.csv')\n",
    "\n",
    "df.head()"
   ]
  },
  {
   "cell_type": "code",
   "execution_count": 14,
   "metadata": {},
   "outputs": [
    {
     "name": "stdout",
     "output_type": "stream",
     "text": [
      "X_train: (2286, 160, 320, 3)\n",
      "Y_train: (2286,)\n"
     ]
    }
   ],
   "source": [
    "import csv\n",
    "import cv2\n",
    "import numpy as np\n",
    "\n",
    "lines = []\n",
    "with open('./data/car-sim1/driving_log.csv') as csvFile:\n",
    "    reader = csv.reader(csvFile)\n",
    "    next(reader, None)\n",
    "    for line in reader:\n",
    "        lines.append(line)\n",
    "        \n",
    "        \n",
    "images = []\n",
    "measurements = []\n",
    "for line in lines:\n",
    "    source_path = line[0]\n",
    "    filename = source_path.split('/')[-1]\n",
    "    current_path = './data/car-sim1/IMG/' + filename\n",
    "    image = cv2.imread(current_path)\n",
    "    images.append(image)\n",
    "    measurement = float(line[3])\n",
    "    measurements.append(measurement)\n",
    "    \n",
    "X_train = np.array(images)\n",
    "Y_train = np.array(measurements)\n",
    "\n",
    "print('X_train:', X_train.shape)\n",
    "print('Y_train:', Y_train.shape)"
   ]
  },
  {
   "cell_type": "code",
   "execution_count": 23,
   "metadata": {},
   "outputs": [
    {
     "name": "stdout",
     "output_type": "stream",
     "text": [
      "X_train: (4572, 160, 320, 3)\n",
      "Y_train: (4572,)\n"
     ]
    }
   ],
   "source": [
    "augmented_images = []\n",
    "augmented_measurements = []\n",
    "for image, measurement in zip(images, measurements):\n",
    "    augmented_images.append(image)\n",
    "    augmented_measurements.append(measurement)\n",
    "    augmented_images.append(cv2.flip(image,1))\n",
    "    augmented_measurements.append(measurement*-1.0)\n",
    "    \n",
    "X_train = np.array(augmented_images)\n",
    "Y_train = np.array(augmented_measurements)\n",
    "\n",
    "print('X_train:', X_train.shape)\n",
    "print('Y_train:', Y_train.shape)"
   ]
  },
  {
   "cell_type": "markdown",
   "metadata": {},
   "source": [
    "## First Model"
   ]
  },
  {
   "cell_type": "code",
   "execution_count": 16,
   "metadata": {},
   "outputs": [
    {
     "name": "stdout",
     "output_type": "stream",
     "text": [
      "Train on 1828 samples, validate on 458 samples\n",
      "Epoch 1/5\n",
      "1828/1828 [==============================] - 1s 805us/step - loss: 0.1135 - val_loss: 0.1430\n",
      "Epoch 2/5\n",
      "1828/1828 [==============================] - 1s 667us/step - loss: 0.0570 - val_loss: 0.1118\n",
      "Epoch 3/5\n",
      "1828/1828 [==============================] - 1s 656us/step - loss: 0.0338 - val_loss: 0.0960\n",
      "Epoch 4/5\n",
      "1828/1828 [==============================] - 1s 660us/step - loss: 0.0235 - val_loss: 0.1027\n",
      "Epoch 5/5\n",
      "1828/1828 [==============================] - 1s 655us/step - loss: 0.0182 - val_loss: 0.0976\n"
     ]
    }
   ],
   "source": [
    "from keras.models import Sequential\n",
    "from keras.layers import Flatten, Dense, Lambda\n",
    "from keras.optimizers import Adam\n",
    "\n",
    "model = Sequential()\n",
    "#model.add(Flatten(input_shape=(160, 320, 3)))\n",
    "model.add(Lambda(lambda x: (x / 255.0) - 0.5, input_shape=(160,320,3)))\n",
    "model.add(Flatten())\n",
    "model.add(Dense(1))\n",
    "\n",
    "model.compile(loss='mse', optimizer=Adam(lr=0.0001))\n",
    "model.fit(X_train, Y_train, validation_split=0.2, shuffle=True, epochs=5)\n",
    "\n",
    "model.save('model.h5')"
   ]
  },
  {
   "cell_type": "markdown",
   "metadata": {},
   "source": [
    "## Second Model"
   ]
  },
  {
   "cell_type": "code",
   "execution_count": null,
   "metadata": {},
   "outputs": [
    {
     "name": "stdout",
     "output_type": "stream",
     "text": [
      "Train on 3657 samples, validate on 915 samples\n",
      "Epoch 1/10\n",
      "3657/3657 [==============================] - 3s 845us/step - loss: 2.9518 - val_loss: 0.0613\n",
      "Epoch 2/10\n",
      "3657/3657 [==============================] - 2s 648us/step - loss: 0.0364 - val_loss: 0.0578\n",
      "Epoch 3/10\n",
      "3657/3657 [==============================] - 2s 656us/step - loss: 0.0329 - val_loss: 0.0565\n",
      "Epoch 4/10\n",
      "3657/3657 [==============================] - 2s 661us/step - loss: 0.0291 - val_loss: 0.0564\n",
      "Epoch 5/10\n",
      "3657/3657 [==============================] - 2s 673us/step - loss: 0.0252 - val_loss: 0.0589\n",
      "Epoch 6/10\n",
      "3657/3657 [==============================] - 2s 665us/step - loss: 0.0218 - val_loss: 0.0646\n",
      "Epoch 7/10\n",
      "3657/3657 [==============================] - 2s 635us/step - loss: 0.0189 - val_loss: 0.0596\n",
      "Epoch 8/10\n",
      "3657/3657 [==============================] - 2s 651us/step - loss: 0.0161 - val_loss: 0.0633\n",
      "Epoch 9/10\n",
      "3584/3657 [============================>.] - ETA: 0s - loss: 0.0140"
     ]
    }
   ],
   "source": [
    "from keras.layers.convolutional import Conv2D\n",
    "from keras.layers.pooling import MaxPooling2D\n",
    "\n",
    "model = Sequential()\n",
    "model.add(Lambda(lambda x: (x / 255.0) - 0.5, input_shape=(160,320,3)))\n",
    "model.add(Conv2D(6, (5,5), activation='relu'))\n",
    "model.add(MaxPooling2D())\n",
    "model.add(Conv2D(6, (5,5), activation='relu'))\n",
    "model.add(MaxPooling2D())\n",
    "model.add(Flatten())\n",
    "model.add(Dense(120))\n",
    "model.add(Dense(84))\n",
    "model.add(Dense(1))\n",
    "\n",
    "model.compile(loss='mse', optimizer=Adam(lr=0.001))\n",
    "model.fit(X_train, Y_train, validation_split=0.2, shuffle=True, epochs=10)\n",
    "\n",
    "model.save('model.h5')"
   ]
  },
  {
   "cell_type": "code",
   "execution_count": 10,
   "metadata": {},
   "outputs": [
    {
     "name": "stdout",
     "output_type": "stream",
     "text": [
      "[name: \"/device:CPU:0\"\n",
      "device_type: \"CPU\"\n",
      "memory_limit: 268435456\n",
      "locality {\n",
      "}\n",
      "incarnation: 1888059787822219105\n",
      ", name: \"/device:GPU:0\"\n",
      "device_type: \"GPU\"\n",
      "memory_limit: 302448640\n",
      "locality {\n",
      "  bus_id: 1\n",
      "}\n",
      "incarnation: 3621040110653449976\n",
      "physical_device_desc: \"device: 0, name: GeForce GTX 1080 Ti, pci bus id: 0000:09:00.0, compute capability: 6.1\"\n",
      ", name: \"/device:GPU:1\"\n",
      "device_type: \"GPU\"\n",
      "memory_limit: 338100224\n",
      "locality {\n",
      "  bus_id: 1\n",
      "}\n",
      "incarnation: 4712016052853008706\n",
      "physical_device_desc: \"device: 1, name: GeForce GTX 1080 Ti, pci bus id: 0000:0a:00.0, compute capability: 6.1\"\n",
      ", name: \"/device:GPU:2\"\n",
      "device_type: \"GPU\"\n",
      "memory_limit: 338100224\n",
      "locality {\n",
      "  bus_id: 1\n",
      "}\n",
      "incarnation: 4475804696287490450\n",
      "physical_device_desc: \"device: 2, name: GeForce GTX 1080 Ti, pci bus id: 0000:42:00.0, compute capability: 6.1\"\n",
      ", name: \"/device:GPU:3\"\n",
      "device_type: \"GPU\"\n",
      "memory_limit: 338100224\n",
      "locality {\n",
      "  bus_id: 1\n",
      "}\n",
      "incarnation: 10865371839291708873\n",
      "physical_device_desc: \"device: 3, name: GeForce GTX 1080 Ti, pci bus id: 0000:43:00.0, compute capability: 6.1\"\n",
      "]\n"
     ]
    }
   ],
   "source": [
    "from tensorflow.python.client import device_lib\n",
    "print(device_lib.list_local_devices())"
   ]
  },
  {
   "cell_type": "code",
   "execution_count": null,
   "metadata": {},
   "outputs": [],
   "source": []
  }
 ],
 "metadata": {
  "kernelspec": {
   "display_name": "tensorflow3.6",
   "language": "python",
   "name": "tensorflow3.6"
  },
  "language_info": {
   "codemirror_mode": {
    "name": "ipython",
    "version": 3
   },
   "file_extension": ".py",
   "mimetype": "text/x-python",
   "name": "python",
   "nbconvert_exporter": "python",
   "pygments_lexer": "ipython3",
   "version": "3.6.4"
  }
 },
 "nbformat": 4,
 "nbformat_minor": 2
}
